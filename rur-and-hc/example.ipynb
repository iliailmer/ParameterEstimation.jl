{
 "cells": [
  {
   "cell_type": "markdown",
   "id": "27e9e9ae-9a94-4048-9445-fbd8d165513e",
   "metadata": {},
   "source": [
    "# Example of estimating parameters using HC.jl and RUR.jl"
   ]
  },
  {
   "cell_type": "markdown",
   "id": "1e8cf23a-ba1c-47b0-80a3-e6a9effbf9c2",
   "metadata": {},
   "source": [
    "## 1. Load the packages"
   ]
  },
  {
   "cell_type": "code",
   "execution_count": 22,
   "id": "8dd9cc32-9e5d-4f9d-a0ac-ec0003cd50d0",
   "metadata": {},
   "outputs": [
    {
     "name": "stderr",
     "output_type": "stream",
     "text": [
      "\u001b[32m\u001b[1m  Activating\u001b[22m\u001b[39m project at `~/pe/ParameterEstimation.jl/rur-and-hc/env`\n"
     ]
    },
    {
     "data": {
      "text/plain": [
       "ConsoleLogger(IOBuffer(data=UInt8[...], readable=false, writable=false, seekable=false, append=false, size=0, maxsize=0, ptr=1, mark=-1), Error, Base.CoreLogging.default_metafmt, true, 0, Dict{Any, Int64}())"
      ]
     },
     "execution_count": 22,
     "metadata": {},
     "output_type": "execute_result"
    }
   ],
   "source": [
    "using Pkg, Logging\n",
    "Pkg.activate(\"env\"); Pkg.instantiate()\n",
    "using ParameterEstimation, RationalUnivariateRepresentation, RS, AbstractAlgebra\n",
    "Logging.global_logger(ConsoleLogger(Logging.Error))"
   ]
  },
  {
   "cell_type": "markdown",
   "id": "fcd750a8-b76a-40a1-870f-1ba4be548e86",
   "metadata": {},
   "source": [
    "## 2. Perform parameter estimation using HomotopyContinuation.jl"
   ]
  },
  {
   "cell_type": "markdown",
   "id": "74a1ef4c-20c2-4bb7-bc19-4f9958be2309",
   "metadata": {},
   "source": [
    "List the names of all available systems:"
   ]
  },
  {
   "cell_type": "code",
   "execution_count": 8,
   "id": "b48abd87-8815-4bb2-80bf-5a9ed26065aa",
   "metadata": {},
   "outputs": [
    {
     "name": "stdout",
     "output_type": "stream",
     "text": [
      "[\"akt_pathway\", \"akt_pathway_small\", \"crauste\", \"crauste_four_squared\", \"crauste_two_squared\", \"crn\", \"goodwin\", \"nfkb_lilliput\", \"nfkb_small\", \"pk1\", \"seir_36\", \"treatment\"]\n"
     ]
    }
   ],
   "source": [
    "readdir(\"systems\") |> println"
   ]
  },
  {
   "cell_type": "markdown",
   "id": "5eab65d7-fa78-4a1b-b029-ea0584c80e3e",
   "metadata": {},
   "source": [
    "Pick one available system, say `crauste`:"
   ]
  },
  {
   "cell_type": "code",
   "execution_count": 9,
   "id": "2e6f96a0-3f9d-487b-84e9-6a9a577d743c",
   "metadata": {},
   "outputs": [
    {
     "data": {
      "text/plain": [
       "\"crauste\""
      ]
     },
     "execution_count": 9,
     "metadata": {},
     "output_type": "execute_result"
    }
   ],
   "source": [
    "SYSTEM = \"crauste\""
   ]
  },
  {
   "cell_type": "markdown",
   "id": "6687bad0-6403-4106-b57b-539e80406ad7",
   "metadata": {},
   "source": [
    "Load the ODE model, run HomotopyContinuation.jl estimation, and print the solutions:"
   ]
  },
  {
   "cell_type": "code",
   "execution_count": 23,
   "id": "736d696b-3a36-4beb-8d27-de7209b525ee",
   "metadata": {},
   "outputs": [
    {
     "name": "stderr",
     "output_type": "stream",
     "text": [
      "\u001b[32mComputing mixed cells... 43    Time: 0:00:00\u001b[39m\n",
      "\u001b[34m  mixed_volume:  53\u001b[39m\n",
      "\u001b[32mProgress: 100%|█████████████████████████████████████████| Time: 0:00:17\u001b[39m\n"
     ]
    },
    {
     "name": "stdout",
     "output_type": "stream",
     "text": [
      "Final Results:\n"
     ]
    },
    {
     "data": {
      "text/plain": [
       "Parameter(s)        :\tmu_N = 1.000, mu_EE = 1.300, mu_LE = 1.100, mu_LL = 1.200, mu_M = 1.100, mu_P = 1.000, mu_PE = 0.500, mu_PL = 1.000, delta_NE = 1.000, delta_EL = 1.000, delta_LM = 1.000, rho_E = 0.900, rho_P = 1.200\n",
       "Initial Condition(s):\tN(t) = 1.000, E(t) = 1.000, S(t) = 1.000, M(t) = 1.000, P(t) = 1.000, where t = -0.500\n",
       "Error: 1.5321e-02\n"
      ]
     },
     "metadata": {},
     "output_type": "display_data"
    },
    {
     "data": {
      "text/plain": [
       "Parameter(s)        :\tmu_N = 1.000, mu_EE = 1.300, mu_LE = 1.137, mu_LL = 1.342, mu_M = 1.047, mu_P = 0.996, mu_PE = 0.529, mu_PL = 1.074, delta_NE = 1.000, delta_EL = 1.000, delta_LM = 0.956, rho_E = 0.900, rho_P = 1.220\n",
       "Initial Condition(s):\tN(t) = 1.000, E(t) = 1.000, S(t) = 0.926, M(t) = 1.074, P(t) = 1.000, where t = -0.500\n",
       "Error: 1.5325e-02\n"
      ]
     },
     "metadata": {},
     "output_type": "display_data"
    },
    {
     "data": {
      "text/plain": [
       "Parameter(s)        :\tmu_N = 1.000, mu_EE = 1.300, mu_LE = -0.915, mu_LL = 1.114, mu_M = 7.070, mu_P = 2.217, mu_PE = -1.006, mu_PL = -4.241, delta_NE = 1.000, delta_EL = 1.000, delta_LM = 1.243, rho_E = 0.900, rho_P = -7.028\n",
       "Initial Condition(s):\tN(t) = 1.000, E(t) = 1.000, S(t) = 1.640, M(t) = 0.360, P(t) = 0.999, where t = -0.500\n",
       "Error: 1.5347e-02\n"
      ]
     },
     "metadata": {},
     "output_type": "display_data"
    },
    {
     "data": {
      "text/plain": [
       "Parameter(s)        :\tmu_N = 1.000, mu_EE = 1.300, mu_LE = 30.623, mu_LL = 11.798, mu_M = -2.028, mu_P = -0.837, mu_PE = -18.668, mu_PL = -7.517, delta_NE = 1.000, delta_EL = 1.000, delta_LM = 4.713, rho_E = 0.900, rho_P = 0.778\n",
       "Initial Condition(s):\tN(t) = 1.000, E(t) = 1.000, S(t) = -2.873, M(t) = 4.872, P(t) = 1.001, where t = -0.500\n",
       "Error: 1.5347e-02\n"
      ]
     },
     "metadata": {},
     "output_type": "display_data"
    },
    {
     "data": {
      "text/plain": [
       "Parameter(s)        :\tmu_N = 1.000, mu_EE = 1.300, mu_LE = 30.819, mu_LL = 11.811, mu_M = -2.059, mu_P = -0.864, mu_PE = -18.805, mu_PL = -7.532, delta_NE = 1.000, delta_EL = 1.000, delta_LM = 4.751, rho_E = 0.900, rho_P = 0.781\n",
       "Initial Condition(s):\tN(t) = 1.000, E(t) = 1.000, S(t) = -2.889, M(t) = 4.889, P(t) = 1.001, where t = -0.500\n",
       "Error: 1.5348e-02\n"
      ]
     },
     "metadata": {},
     "output_type": "display_data"
    },
    {
     "data": {
      "text/plain": [
       "Parameter(s)        :\tmu_N = 1.000, mu_EE = 1.300, mu_LE = -0.929, mu_LL = 1.126, mu_M = 7.079, mu_P = 2.209, mu_PE = -1.024, mu_PL = -4.207, delta_NE = 1.000, delta_EL = 1.000, delta_LM = 1.239, rho_E = 0.900, rho_P = -7.008\n",
       "Initial Condition(s):\tN(t) = 1.000, E(t) = 1.000, S(t) = 1.642, M(t) = 0.358, P(t) = 0.998, where t = -0.500\n",
       "Error: 1.5348e-02\n"
      ]
     },
     "metadata": {},
     "output_type": "display_data"
    },
    {
     "data": {
      "text/plain": [
       "Parameter(s)        :\tmu_N = 1.000, mu_EE = 1.300, mu_LE = 1.860, mu_LL = 0.866, mu_M = 0.313, mu_P = 1.142, mu_PE = -0.721, mu_PL = -0.350, delta_NE = 1.000, delta_EL = 1.000, delta_LM = 2.099, rho_E = 0.900, rho_P = -0.259\n",
       "Initial Condition(s):\tN(t) = 1.000, E(t) = 1.000, S(t) = -1.768, M(t) = 3.766, P(t) = 1.000, where t = -0.500\n",
       "Error: 1.5360e-02\n"
      ]
     },
     "metadata": {},
     "output_type": "display_data"
    },
    {
     "data": {
      "text/plain": [
       "Parameter(s)        :\tmu_N = 1.000, mu_EE = 1.300, mu_LE = 1.843, mu_LL = 0.889, mu_M = 0.341, mu_P = 1.141, mu_PE = -0.689, mu_PL = -0.346, delta_NE = 1.000, delta_EL = 1.000, delta_LM = 2.129, rho_E = 0.900, rho_P = -0.265\n",
       "Initial Condition(s):\tN(t) = 1.000, E(t) = 1.000, S(t) = -1.686, M(t) = 3.684, P(t) = 1.000, where t = -0.500\n",
       "Error: 1.5361e-02\n"
      ]
     },
     "metadata": {},
     "output_type": "display_data"
    },
    {
     "data": {
      "text/plain": [
       "Parameter(s)        :\tmu_N = 1.000, mu_EE = 1.300, mu_LE = -0.894, mu_LL = 0.796, mu_M = -7.210, mu_P = 2.692, mu_PE = -1.591, mu_PL = -4.209, delta_NE = 1.000, delta_EL = 1.000, delta_LM = 1.221, rho_E = 0.900, rho_P = -10.072\n",
       "Initial Condition(s):\tN(t) = 1.000, E(t) = 1.000, S(t) = 2.351, M(t) = -0.348, P(t) = 0.997, where t = -0.500\n",
       "Error: 1.5432e-02\n"
      ]
     },
     "metadata": {},
     "output_type": "display_data"
    },
    {
     "data": {
      "text/plain": [
       "Parameter(s)        :\tmu_N = 1.000, mu_EE = 1.300, mu_LE = -0.903, mu_LL = 0.814, mu_M = -7.972, mu_P = 2.693, mu_PE = -1.623, mu_PL = -4.291, delta_NE = 1.000, delta_EL = 1.000, delta_LM = 1.221, rho_E = 0.900, rho_P = -10.148\n",
       "Initial Condition(s):\tN(t) = 1.000, E(t) = 1.000, S(t) = 2.317, M(t) = -0.313, P(t) = 0.997, where t = -0.500\n",
       "Error: 1.5436e-02\n"
      ]
     },
     "metadata": {},
     "output_type": "display_data"
    },
    {
     "data": {
      "text/plain": [
       "Parameter(s)        :\tmu_N = 1.000, mu_EE = 1.300, mu_LE = -1.926, mu_LL = 3.110, mu_M = 1.802, mu_P = 1.230, mu_PE = -0.518, mu_PL = -0.464, delta_NE = 1.000, delta_EL = 1.000, delta_LM = 0.700, rho_E = 0.900, rho_P = -0.759\n",
       "Initial Condition(s):\tN(t) = 1.000, E(t) = 1.000, S(t) = 0.363, M(t) = 1.628, P(t) = 1.000, where t = -0.500\n",
       "Error: 1.5464e-02\n"
      ]
     },
     "metadata": {},
     "output_type": "display_data"
    },
    {
     "data": {
      "text/plain": [
       "Parameter(s)        :\tmu_N = 1.000, mu_EE = 1.300, mu_LE = -1.908, mu_LL = 3.145, mu_M = 1.779, mu_P = 1.234, mu_PE = -0.536, mu_PL = -0.463, delta_NE = 1.000, delta_EL = 1.000, delta_LM = 0.656, rho_E = 0.900, rho_P = -0.768\n",
       "Initial Condition(s):\tN(t) = 1.000, E(t) = 1.000, S(t) = 0.354, M(t) = 1.638, P(t) = 1.000, where t = -0.500\n",
       "Error: 1.5471e-02\n"
      ]
     },
     "metadata": {},
     "output_type": "display_data"
    },
    {
     "data": {
      "text/plain": [
       "Parameter(s)        :\tmu_N = 1.000, mu_EE = 1.300, mu_LE = 20.081, mu_LL = 14.328, mu_M = 1.210, mu_P = 0.612, mu_PE = 1.194, mu_PL = 1.494, delta_NE = 1.000, delta_EL = 1.000, delta_LM = -0.521, rho_E = 0.900, rho_P = -1.377\n",
       "Initial Condition(s):\tN(t) = 1.000, E(t) = 1.000, S(t) = -1.251, M(t) = 3.261, P(t) = 1.001, where t = -0.500\n",
       "Error: 1.5525e-02\n"
      ]
     },
     "metadata": {},
     "output_type": "display_data"
    },
    {
     "data": {
      "text/plain": [
       "Parameter(s)        :\tmu_N = 1.000, mu_EE = 1.300, mu_LE = 20.130, mu_LL = 14.337, mu_M = 1.223, mu_P = 0.621, mu_PE = 1.125, mu_PL = 1.438, delta_NE = 1.000, delta_EL = 1.000, delta_LM = -0.553, rho_E = 0.900, rho_P = -1.368\n",
       "Initial Condition(s):\tN(t) = 1.000, E(t) = 1.000, S(t) = -1.252, M(t) = 3.261, P(t) = 1.001, where t = -0.500\n",
       "Error: 1.5531e-02\n"
      ]
     },
     "metadata": {},
     "output_type": "display_data"
    },
    {
     "data": {
      "text/plain": [
       "Parameter(s)        :\tmu_N = 1.000, mu_EE = 1.300, mu_LE = 1.635, mu_LL = 0.177, mu_M = 0.676, mu_P = 1.091, mu_PE = 5.297, mu_PL = -0.450, delta_NE = 1.000, delta_EL = 1.000, delta_LM = 4.790, rho_E = 0.900, rho_P = 6.483\n",
       "Initial Condition(s):\tN(t) = 1.000, E(t) = 1.000, S(t) = -3.019, M(t) = 5.064, P(t) = 0.998, where t = -0.500\n",
       "Error: 1.6091e-02\n"
      ]
     },
     "metadata": {},
     "output_type": "display_data"
    },
    {
     "data": {
      "text/plain": [
       "Parameter(s)        :\tmu_N = 1.000, mu_EE = 1.300, mu_LE = 1.638, mu_LL = 0.177, mu_M = 0.676, mu_P = 1.091, mu_PE = 5.423, mu_PL = -0.456, delta_NE = 1.000, delta_EL = 1.000, delta_LM = 4.799, rho_E = 0.900, rho_P = 6.636\n",
       "Initial Condition(s):\tN(t) = 1.000, E(t) = 1.000, S(t) = -3.037, M(t) = 5.083, P(t) = 0.998, where t = -0.500\n",
       "Error: 1.6099e-02\n"
      ]
     },
     "metadata": {},
     "output_type": "display_data"
    },
    {
     "data": {
      "text/plain": [
       "Parameter(s)        :\tmu_N = 1.000, mu_EE = 1.300, mu_LE = -0.546, mu_LL = 0.907, mu_M = 0.191, mu_P = 32.812, mu_PE = -8.090, mu_PL = -22.792, delta_NE = 1.000, delta_EL = 1.000, delta_LM = -0.176, rho_E = 0.900, rho_P = -38.853\n",
       "Initial Condition(s):\tN(t) = 0.990, E(t) = 1.020, S(t) = 2.735, M(t) = -0.734, P(t) = 0.680, where t = -0.500\n",
       "Error: 1.9406e-02\n"
      ]
     },
     "metadata": {},
     "output_type": "display_data"
    },
    {
     "data": {
      "text/plain": [
       "Parameter(s)        :\tmu_N = 1.000, mu_EE = 1.300, mu_LE = -0.546, mu_LL = 0.912, mu_M = 0.194, mu_P = 34.603, mu_PE = -8.572, mu_PL = -24.159, delta_NE = 1.000, delta_EL = 1.000, delta_LM = -0.179, rho_E = 0.900, rho_P = -41.032\n",
       "Initial Condition(s):\tN(t) = 0.986, E(t) = 1.028, S(t) = 2.724, M(t) = -0.724, P(t) = 0.557, where t = -0.500\n",
       "Error: 2.1027e-02\n"
      ]
     },
     "metadata": {},
     "output_type": "display_data"
    },
    {
     "data": {
      "text/plain": [
       "Parameter(s)        :\tmu_N = 1.000, mu_EE = 1.300, mu_LE = -8.274, mu_LL = -17.499, mu_M = 0.337, mu_P = 1.604, mu_PE = -36.211, mu_PL = -23.370, delta_NE = 1.000, delta_EL = 1.000, delta_LM = 2.755, rho_E = 0.900, rho_P = -30.973\n",
       "Initial Condition(s):\tN(t) = 0.979, E(t) = 0.945, S(t) = -0.260, M(t) = 2.184, P(t) = 2.155, where t = -0.500\n",
       "Error: 4.0871e-02\n"
      ]
     },
     "metadata": {},
     "output_type": "display_data"
    },
    {
     "data": {
      "text/plain": [
       "Parameter(s)        :\tmu_N = 1.000, mu_EE = 1.300, mu_LE = 9.323, mu_LL = -0.113, mu_M = 7.061, mu_P = 1.052, mu_PE = 5.653, mu_PL = 0.062, delta_NE = 1.000, delta_EL = 1.000, delta_LM = -1.812, rho_E = 0.900, rho_P = 7.011\n",
       "Initial Condition(s):\tN(t) = 1.000, E(t) = 1.001, S(t) = 23.737, M(t) = -24.180, P(t) = 0.994, where t = -0.500\n",
       "Error: 5.4773e-02\n"
      ]
     },
     "metadata": {},
     "output_type": "display_data"
    },
    {
     "data": {
      "text/plain": [
       "Parameter(s)        :\tmu_N = 1.000, mu_EE = 1.300, mu_LE = 9.368, mu_LL = -0.113, mu_M = 7.093, mu_P = 1.051, mu_PE = 5.793, mu_PL = 0.063, delta_NE = 1.000, delta_EL = 1.000, delta_LM = -1.833, rho_E = 0.900, rho_P = 7.182\n",
       "Initial Condition(s):\tN(t) = 1.000, E(t) = 1.001, S(t) = 23.922, M(t) = -24.414, P(t) = 0.994, where t = -0.500\n",
       "Error: 5.5565e-02\n"
      ]
     },
     "metadata": {},
     "output_type": "display_data"
    },
    {
     "data": {
      "text/plain": [
       "Parameter(s)        :\tmu_N = 1.000, mu_EE = -0.732, mu_LE = -2749.409, mu_LL = -2133140.617, mu_M = 0.491, mu_P = 0.976, mu_PE = -0.509, mu_PL = 0.003, delta_NE = 0.999, delta_EL = 1.134, delta_LM = 958.143, rho_E = -1.269, rho_P = -0.803\n",
       "Initial Condition(s):\tN(t) = 0.999, E(t) = 1.031, S(t) = -0.000, M(t) = 1.620, P(t) = 0.993, where t = -0.500\n",
       "Error: 6.4822e-02\n"
      ]
     },
     "metadata": {},
     "output_type": "display_data"
    },
    {
     "data": {
      "text/plain": [
       "Parameter(s)        :\tmu_N = 1.000, mu_EE = 1.300, mu_LE = -8.284, mu_LL = -17.562, mu_M = 0.337, mu_P = 1.587, mu_PE = -34.992, mu_PL = -22.559, delta_NE = 1.000, delta_EL = 1.000, delta_LM = 2.760, rho_E = 0.900, rho_P = -29.974\n",
       "Initial Condition(s):\tN(t) = 1.086, E(t) = 0.842, S(t) = -0.250, M(t) = 2.215, P(t) = 13.418, where t = -0.500\n",
       "Error: 1.3924e-01\n"
      ]
     },
     "metadata": {},
     "output_type": "display_data"
    },
    {
     "data": {
      "text/plain": [
       "Parameter(s)        :\tmu_N = 1.000, mu_EE = -0.732, mu_LE = 14.957, mu_LL = 4.392, mu_M = -1.582, mu_P = 105.863, mu_PE = 894.782, mu_PL = 292.928, delta_NE = 0.999, delta_EL = 1.134, delta_LM = 3.593, rho_E = -1.269, rho_P = -123.040\n",
       "Initial Condition(s):\tN(t) = 0.585, E(t) = 0.811, S(t) = -3.129, M(t) = 4.611, P(t) = 0.830, where t = -0.500\n",
       "Error: 1.6689e-01\n"
      ]
     },
     "metadata": {},
     "output_type": "display_data"
    },
    {
     "data": {
      "text/plain": [
       "Parameter(s)        :\tmu_N = 1.000, mu_EE = -0.732, mu_LE = -3.660, mu_LL = 3.666, mu_M = 3.668, mu_P = -96.019, mu_PE = -871.939, mu_PL = 225.425, delta_NE = 0.999, delta_EL = 1.134, delta_LM = 0.363, rho_E = -1.269, rho_P = -811.397\n",
       "Initial Condition(s):\tN(t) = 0.484, E(t) = 0.728, S(t) = 1.013, M(t) = 0.331, P(t) = 0.761, where t = -0.500\n",
       "Error: 2.1043e-01\n"
      ]
     },
     "metadata": {},
     "output_type": "display_data"
    },
    {
     "data": {
      "text/plain": [
       "Parameter(s)        :\tmu_N = 1.000, mu_EE = -0.732, mu_LE = 0.839, mu_LL = 0.091, mu_M = -0.827, mu_P = 43.797, mu_PE = 605.528, mu_PL = 138.151, delta_NE = 0.999, delta_EL = 1.134, delta_LM = 2.147, rho_E = -1.269, rho_P = -758.175\n",
       "Initial Condition(s):\tN(t) = 0.484, E(t) = 0.728, S(t) = -6.905, M(t) = 8.250, P(t) = 0.661, where t = -0.500\n",
       "Error: 2.1079e-01\n"
      ]
     },
     "metadata": {},
     "output_type": "display_data"
    },
    {
     "data": {
      "text/plain": [
       "Parameter(s)        :\tmu_N = 1.000, mu_EE = -0.732, mu_LE = 0.277, mu_LL = 0.186, mu_M = 42.392, mu_P = 139.595, mu_PE = -42.892, mu_PL = -436.213, delta_NE = 0.999, delta_EL = 1.134, delta_LM = 1.531, rho_E = -1.269, rho_P = -738.910\n",
       "Initial Condition(s):\tN(t) = 0.484, E(t) = 0.728, S(t) = 1.297, M(t) = 0.048, P(t) = 0.647, where t = -0.500\n",
       "Error: 2.1201e-01\n"
      ]
     },
     "metadata": {},
     "output_type": "display_data"
    },
    {
     "data": {
      "text/plain": [
       "Parameter(s)        :\tmu_N = 1.000, mu_EE = -0.732, mu_LE = -2608.019, mu_LL = -5327163.247, mu_M = 0.792, mu_P = 1.034, mu_PE = -0.158, mu_PL = -309.522, delta_NE = 0.999, delta_EL = 1.134, delta_LM = 1703.748, rho_E = -1.269, rho_P = -0.279\n",
       "Initial Condition(s):\tN(t) = 0.484, E(t) = 0.728, S(t) = -0.000, M(t) = 1.345, P(t) = 0.621, where t = -0.500\n",
       "Error: 2.1705e-01\n"
      ]
     },
     "metadata": {},
     "output_type": "display_data"
    },
    {
     "data": {
      "text/plain": [
       "Parameter(s)        :\tmu_N = 1.000, mu_EE = -0.732, mu_LE = 4.668, mu_LL = -0.135, mu_M = 3.511, mu_P = -27.532, mu_PE = -1281.554, mu_PL = -52.575, delta_NE = 0.999, delta_EL = 1.134, delta_LM = 0.395, rho_E = -1.269, rho_P = -1745.081\n",
       "Initial Condition(s):\tN(t) = 0.467, E(t) = 0.712, S(t) = 2.188, M(t) = -0.868, P(t) = 0.615, where t = -0.500\n",
       "Error: 2.1781e-01\n"
      ]
     },
     "metadata": {},
     "output_type": "display_data"
    },
    {
     "data": {
      "text/plain": [
       "Parameter(s)        :\tmu_N = 1.000, mu_EE = -0.732, mu_LE = 1.735, mu_LL = 0.178, mu_M = 0.530, mu_P = -35.266, mu_PE = -974.861, mu_PL = 69.097, delta_NE = 0.999, delta_EL = 1.134, delta_LM = 3.549, rho_E = -1.269, rho_P = -1288.921\n",
       "Initial Condition(s):\tN(t) = 0.467, E(t) = 0.712, S(t) = -0.718, M(t) = 2.038, P(t) = 0.605, where t = -0.500\n",
       "Error: 2.2017e-01\n"
      ]
     },
     "metadata": {},
     "output_type": "display_data"
    },
    {
     "data": {
      "text/plain": [
       "Parameter(s)        :\tmu_N = 1.000, mu_EE = -0.732, mu_LE = 4.020, mu_LL = 0.446, mu_M = 8.815, mu_P = -2421.009, mu_PE = 358.244, mu_PL = 108.556, delta_NE = 0.999, delta_EL = 1.134, delta_LM = -8.681, rho_E = -1.269, rho_P = -1028.763\n",
       "Initial Condition(s):\tN(t) = 0.467, E(t) = 0.712, S(t) = 14.225, M(t) = -12.906, P(t) = 0.605, where t = -0.500\n",
       "Error: 2.2042e-01\n"
      ]
     },
     "metadata": {},
     "output_type": "display_data"
    },
    {
     "data": {
      "text/plain": [
       "Parameter(s)        :\tmu_N = 1.000, mu_EE = -0.732, mu_LE = -2728.564, mu_LL = -2131875.483, mu_M = 0.496, mu_P = 0.976, mu_PE = -0.509, mu_PL = -0.005, delta_NE = 0.999, delta_EL = 1.134, delta_LM = 958.155, rho_E = -1.269, rho_P = -0.803\n",
       "Initial Condition(s):\tN(t) = 0.451, E(t) = 0.697, S(t) = -0.000, M(t) = 1.296, P(t) = 0.591, where t = -0.500\n",
       "Error: 2.2479e-01\n"
      ]
     },
     "metadata": {},
     "output_type": "display_data"
    },
    {
     "data": {
      "text/plain": [
       "Parameter(s)        :\tmu_N = 1.000, mu_EE = -0.732, mu_LE = 0.558, mu_LL = 0.906, mu_M = 2.473, mu_P = 387.029, mu_PE = -6669.049, mu_PL = -2702.223, delta_NE = 0.999, delta_EL = 1.134, delta_LM = 1.065, rho_E = -1.269, rho_P = -11258.408\n",
       "Initial Condition(s):\tN(t) = 0.451, E(t) = 0.697, S(t) = 0.884, M(t) = 0.411, P(t) = 0.591, where t = -0.500\n",
       "Error: 2.2760e-01\n"
      ]
     },
     "metadata": {},
     "output_type": "display_data"
    },
    {
     "data": {
      "text/plain": [
       "Parameter(s)        :\tmu_N = 1.000, mu_EE = -0.732, mu_LE = -1134.183, mu_LL = 629.781, mu_M = 1119.899, mu_P = 0.976, mu_PE = -0.509, mu_PL = 0.000, delta_NE = 0.999, delta_EL = 1.134, delta_LM = -161.259, rho_E = -1.269, rho_P = -0.803\n",
       "Initial Condition(s):\tN(t) = 0.451, E(t) = 0.697, S(t) = 1.514, M(t) = -0.219, P(t) = 0.591, where t = -0.500\n",
       "Error: 2.3606e-01\n"
      ]
     },
     "metadata": {},
     "output_type": "display_data"
    },
    {
     "data": {
      "text/plain": [
       "Parameter(s)        :\tmu_N = 1.000, mu_EE = -0.732, mu_LE = -801.171, mu_LL = -180157.589, mu_M = 2.416, mu_P = 2.269, mu_PE = 2.129, mu_PL = 591.612, delta_NE = 0.999, delta_EL = 1.134, delta_LM = -392.309, rho_E = -1.269, rho_P = -0.796\n",
       "Initial Condition(s):\tN(t) = 2.009, E(t) = 1.016, S(t) = -0.000, M(t) = 3.723, P(t) = 8.320, where t = -0.500\n",
       "Error: 5.2720e-01\n"
      ]
     },
     "metadata": {},
     "output_type": "display_data"
    }
   ],
   "source": [
    "res = include(\"systems/$(SYSTEM)/$(SYSTEM).jl\");"
   ]
  },
  {
   "cell_type": "markdown",
   "id": "9d4c6f80-a92b-497e-947a-adfb5071944d",
   "metadata": {},
   "source": [
    "Compare the first solution with the ground truth:"
   ]
  },
  {
   "cell_type": "code",
   "execution_count": 24,
   "id": "4281b39e-e4b2-48bd-b1cb-55ecccc82866",
   "metadata": {},
   "outputs": [
    {
     "data": {
      "text/plain": [
       "OrderedCollections.OrderedDict{Any, Any} with 13 entries:\n",
       "  mu_N     => 1.0\n",
       "  mu_EE    => 1.3\n",
       "  mu_LE    => 1.1\n",
       "  mu_LL    => 1.2\n",
       "  mu_M     => 1.1\n",
       "  mu_P     => 1.0\n",
       "  mu_PE    => 0.5\n",
       "  mu_PL    => 1.0\n",
       "  delta_NE => 1.0\n",
       "  delta_EL => 1.0\n",
       "  delta_LM => 1.0\n",
       "  rho_E    => 0.9\n",
       "  rho_P    => 1.2"
      ]
     },
     "execution_count": 24,
     "metadata": {},
     "output_type": "execute_result"
    }
   ],
   "source": [
    "# Estimated\n",
    "res[1].parameters"
   ]
  },
  {
   "cell_type": "code",
   "execution_count": 25,
   "id": "1b330c42-98d9-4fc8-a201-6d3780bf2f10",
   "metadata": {},
   "outputs": [
    {
     "data": {
      "text/plain": [
       "Dict{Num, Float64} with 13 entries:\n",
       "  mu_N     => 1.0\n",
       "  mu_LE    => 1.1\n",
       "  mu_P     => 1.0\n",
       "  delta_LM => 1.0\n",
       "  mu_PE    => 0.5\n",
       "  delta_EL => 1.0\n",
       "  delta_NE => 1.0\n",
       "  mu_EE    => 1.3\n",
       "  mu_LL    => 1.2\n",
       "  mu_M     => 1.1\n",
       "  rho_E    => 0.9\n",
       "  rho_P    => 1.2\n",
       "  mu_PL    => 1.0"
      ]
     },
     "execution_count": 25,
     "metadata": {},
     "output_type": "execute_result"
    }
   ],
   "source": [
    "# Ground truth\n",
    "Dict(parameters .=> p_true)"
   ]
  },
  {
   "cell_type": "markdown",
   "id": "4536aaf7-2eac-47ba-96a2-8cd5d3b8fa3d",
   "metadata": {},
   "source": [
    "## 3. Perform parameter estimation using RUR.jl + RS.jl\n",
    "\n",
    "Note that we load a pre-computed system of equations. In the future, this process of creating a system will be automated."
   ]
  },
  {
   "cell_type": "code",
   "execution_count": 26,
   "id": "753dcc4c-cf99-4969-b5db-aa718446ba12",
   "metadata": {},
   "outputs": [
    {
     "data": {
      "text/plain": [
       "43-element Vector{AbstractAlgebra.Generic.MPoly{Rational{BigInt}}}:\n",
       " -E_0 + 784189467536885//1125899906842624\n",
       " -N_0*P_0*delta_NE_0 + E_0^2*mu_EE_0 - E_0*P_0*rho_E_0 + E_0*delta_EL_0 + E_1\n",
       " -N_0 + 4058352921005933//9007199254740992\n",
       " N_0*P_0*delta_NE_0 + N_0*mu_N_0 + N_1\n",
       " -P_0 + 664907611126251//1125899906842624\n",
       " E_0*P_0*mu_PE_0 + P_0*S_0*mu_PL_0 - P_0^2*rho_P_0 + P_0*mu_P_0 + P_1\n",
       " -M_0 - S_0 + 2916997861279293//2251799813685248\n",
       " -S_0*delta_LM_0 + M_0*mu_M_0 + M_1\n",
       " E_0*S_0*mu_LE_0 + S_0^2*mu_LL_0 - S_0*delta_EL_0 + S_0*delta_LM_0 + S_1\n",
       " -E_1 - 6222805357489185//9007199254740992\n",
       " -N_1*P_0*delta_NE_0 - N_0*P_1*delta_NE_0 + 2*E_0*E_1*mu_EE_0 - E_1*P_0*rho_E_0 - E_0*P_1*rho_E_0 + E_1*delta_EL_0 + E_2\n",
       " -N_1 - 6455039988309557//9007199254740992\n",
       " N_1*P_0*delta_NE_0 + N_0*P_1*delta_NE_0 + N_1*mu_N_0 + N_2\n",
       " ⋮\n",
       " -M_3 - S_3 - 7128109657457255//2251799813685248\n",
       " E_3*S_0*mu_LE_0 + 3*E_2*S_1*mu_LE_0 + 3*E_1*S_2*mu_LE_0 + E_0*S_3*mu_LE_0 + 6*S_1*S_2*mu_LL_0 + 2*S_0*S_3*mu_LL_0 - S_3*delta_EL_0 + S_3*delta_LM_0 + S_4\n",
       " -S_3*delta_LM_0 + M_3*mu_M_0 + M_4\n",
       " -P_4 + 2723524145374491//562949953421312\n",
       " E_4*P_0*mu_PE_0 + 4*E_3*P_1*mu_PE_0 + 6*E_2*P_2*mu_PE_0 + 4*E_1*P_3*mu_PE_0 + E_0*P_4*mu_PE_0 + P_4*S_0*mu_PL_0 + 4*P_3*S_1*mu_PL_0 + 6*P_2*S_2*mu_PL_0 + 4*P_1*S_3*mu_PL_0 + P_0*S_4*mu_PL_0 - 6*P_2^2*rho_P_0 - 8*P_1*P_3*rho_P_0 - 2*P_0*P_4*rho_P_0 + P_4*mu_P_0 + P_5\n",
       " -M_4 - S_4 + 1731946337140427//140737488355328\n",
       " -S_4*delta_LM_0 + M_4*mu_M_0 + M_5\n",
       " E_4*S_0*mu_LE_0 + 4*E_3*S_1*mu_LE_0 + 6*E_2*S_2*mu_LE_0 + 4*E_1*S_3*mu_LE_0 + E_0*S_4*mu_LE_0 + 6*S_2^2*mu_LL_0 + 8*S_1*S_3*mu_LL_0 + 2*S_0*S_4*mu_LL_0 - S_4*delta_EL_0 + S_4*delta_LM_0 + S_5\n",
       " -P_5 - 2846658671111685//140737488355328\n",
       " E_5*P_0*mu_PE_0 + 5*E_4*P_1*mu_PE_0 + 10*E_3*P_2*mu_PE_0 + 10*E_2*P_3*mu_PE_0 + 5*E_1*P_4*mu_PE_0 + E_0*P_5*mu_PE_0 + P_5*S_0*mu_PL_0 + 5*P_4*S_1*mu_PL_0 + 10*P_3*S_2*mu_PL_0 + 10*P_2*S_3*mu_PL_0 + 5*P_1*S_4*mu_PL_0 + P_0*S_5*mu_PL_0 - 20*P_2*P_3*rho_P_0 - 10*P_1*P_4*rho_P_0 - 2*P_0*P_5*rho_P_0 + P_5*mu_P_0 + P_6\n",
       " -N_4*P_0*delta_NE_0 - 4*N_3*P_1*delta_NE_0 - 6*N_2*P_2*delta_NE_0 - 4*N_1*P_3*delta_NE_0 - N_0*P_4*delta_NE_0 + 6*E_2^2*mu_EE_0 + 8*E_1*E_3*mu_EE_0 + 2*E_0*E_4*mu_EE_0 - E_4*P_0*rho_E_0 - 4*E_3*P_1*rho_E_0 - 6*E_2*P_2*rho_E_0 - 4*E_1*P_3*rho_E_0 - E_0*P_4*rho_E_0 + E_4*delta_EL_0 + E_5\n",
       " N_3*P_0*delta_NE_0 + 3*N_2*P_1*delta_NE_0 + 3*N_1*P_2*delta_NE_0 + N_0*P_3*delta_NE_0 + N_3*mu_N_0 + N_4"
      ]
     },
     "execution_count": 26,
     "metadata": {},
     "output_type": "execute_result"
    }
   ],
   "source": [
    "sys = include(\"systems/$SYSTEM/sys_$(SYSTEM)_AAA_abstract_algebra.txt\")"
   ]
  },
  {
   "cell_type": "markdown",
   "id": "dc31ef2e-06bf-4bb8-8ae9-f54efc59b744",
   "metadata": {},
   "source": [
    "Round the coefficients to 10 decimal digits and compute a RUR:"
   ]
  },
  {
   "cell_type": "code",
   "execution_count": 35,
   "id": "228422e1-9f71-4579-b476-2ea78f8daecb",
   "metadata": {},
   "outputs": [
    {
     "name": "stdout",
     "output_type": "stream",
     "text": [
      "primes of bitsize 28\n",
      "G-Q-Pt-FG-LT-LP(C)\n",
      "Dimension of the quotient :32\n",
      "Degree of the radical :32\n",
      "Use last variable as separating element\n",
      "Run Groebner learn\n",
      "Test cyclic optimizationBad prime number for parameterization (32,31)\n",
      "Switch off cyclic optimization \n",
      "Multi-modular computation (1 threads): G-Q-Pt-FG-LT-LP(C)\n",
      "5-9-13-17-21-25-29-33-37-41-45-49-53-61-69-77-85-93-105-117-129-141-157-173-193-213-237-261-289-317-349-385-425-469-517-569-625-689-757-833-917-1009-1109-1221-\n",
      "check-G-Q-Pt-FG-LT-LP(C)\n",
      "Nb Primes used :1221\n"
     ]
    }
   ],
   "source": [
    "sys_rounded = map(f -> map_coefficients(c -> rationalize(BigInt, round(BigFloat(c), digits=10)), f), sys)\n",
    "rur, sep = zdim_parameterization(sys_rounded, get_separating_element=true);"
   ]
  },
  {
   "cell_type": "markdown",
   "id": "e94ae7b4-0979-457d-9fa7-8d5b72edfc9c",
   "metadata": {},
   "source": [
    "The parametrization is passed to the root finder from RS.jl. We may specify the desired precision (in the number of binary digits) with output_precision option."
   ]
  },
  {
   "cell_type": "code",
   "execution_count": 37,
   "id": "af9a651d-179e-4f83-9c77-1d5503f9b47d",
   "metadata": {},
   "outputs": [
    {
     "data": {
      "text/plain": [
       "12-element Vector{Vector{MPFI.BigInterval}}:\n",
       " [[0.696500159868709955161, 0.696500164131290051372], [-0.690870179657031152306, -0.690870177542968849323], [0.454310571852452485346, 0.454310572547547514909], [1.17215060765165248662, 1.17215060854834751355], [-10.7966234652726763683, -10.7966234611429687603], [66.6760552805710499727, 66.6760552933228428721], [-0.847414743552776299299, -0.847414743482213299791], [-0.219187210794493730669, -0.219187210738128040098], [0.194223309578705286097, 0.194223309600850796146], [-0.249383581389642339307, -0.249383581384732657467]  …  [1.29999999785746106739, 1.29999999785746106837], [-0.545937477351196936547, -0.545937477351196936195], [0.912154010082665063822, 0.912154010082665064039], [0.19414564301847254639, 0.194145643018472546492], [1.00000000014570940651, 1.00000000014570940656], [-8.57202540834182278012, -8.57202540834182277968], [-24.1590420874091409021, -24.1590420874091409012], [34.6032970024083466973, 34.6032970024083466991], [0.899999998276727897027, 0.899999998276727897054], [-41.0315489385369232649, -41.0315489385369232631]]\n",
       " [[0.696500160813973145907, 0.696500163186026856099], [-0.690870179188219953406, -0.690870178011780047112], [0.454310572006595687794, 0.454310572393404312285], [1.17215060785050219377, 1.17215060834949780629], [-10.7966234643568787734, -10.7966234620587663547], [66.6760552833988679143, 66.6760552904950249305], [1.56933710162851124923, 1.56933710168138455652], [-1.28541907639696473709, -1.28541907633813686396], [1.03869597509062056966, 1.038695975114103818], [0.581244074592241756369, 0.581244074596794228565]  …  [1.29999999785746106761, 1.2999999978574610682], [-8.28426245569443690017, -8.28426245569443689886], [-17.5621428072528227579, -17.5621428072528227553], [0.337403930296381482384, 0.337403930296381482465], [1.00000000014570940651, 1.00000000014570940656], [-34.9920432338519009872, -34.9920432338519009855], [-22.5585510613083875964, -22.5585510613083875956], [1.58671970435786824014, 1.58671970435786824019], [0.899999998276727897027, 0.899999998276727897054], [-29.9744150138735618114, -29.9744150138735618106]]\n",
       " [[0.696500160145605522454, 0.69650016385439448248], [-0.690870179519702475745, -0.690870177680297525478], [0.454310571897605591779, 0.454310572502394408422], [1.17215060770990145146, 1.17215060849009854865], [-10.7966234650044121466, -10.7966234614112329819], [66.6760552813994015475, 66.6760552924944912973], [-0.210001697766381358638, -0.210001697714856982415], [0.163740720047816056535, 0.163740720119481741227], [-0.196206694174876756181, -0.196206694142095160044], [0.355661673662051569121, 0.355661673672607144605]  …  [1.29999999785746106745, 1.29999999785746106831], [-0.902704378151326855279, -0.902704378151326854683], [0.81366623943399175143, 0.813666239433991751701], [-7.97192041391239337826, -7.97192041391239337783], [1.00000000014570940651, 1.00000000014570940656], [-1.62322824269548786114, -1.62322824269548786108], [-4.29091742573116633223, -4.29091742573116633201], [2.69300594675821900555, 2.69300594675821900565], [0.899999998276727897027, 0.899999998276727897054], [-10.1479904316897107997, -10.1479904316897107993]]\n",
       " [[0.696500160887214424645, 0.696500163112785577118], [-0.690870179151895327509, -0.690870178048104672928], [0.454310572018539076035, 0.454310572381460924045], [1.1721506078659095502, 1.17215060833409044985], [-10.7966234642859205601, -10.796623462129724568], [66.6760552836179740885, 66.6760552902759187563], [0.21660331202203083201, 0.216603312077607693252], [-0.196254417428355449799, -0.196254417351394457878], [0.311078573196090215087, 0.311078573233944114207], [-0.881806060612498575628, -0.881806060592771540681]  …  [1.29999999785746106761, 1.29999999785746106815], [-0.929227419596335264492, -0.929227419596335263923], [1.12556212252598838601, 1.12556212252598838622], [7.07859263638873278403, 7.07859263638873278447], [1.00000000014570940651, 1.00000000014570940656], [-1.02353960243782846523, -1.02353960243782846513], [-4.2067442687863086789, -4.20674426878630867868], [2.20855522343189950398, 2.20855522343189950409], [0.899999998276727897027, 0.899999998276727897054], [-7.00762125331212591337, -7.00762125331212591315]]\n",
       " [[0.696500160510255000602, 0.696500163489745002571], [-0.69087017933885151201, -0.690870177861148488779], [0.454310571957068648098, 0.454310572442931352036], [1.17215060778661071377, 1.17215060841338928634], [-10.7966234646511294645, -10.796623461764515664], [66.6760552824902748038, 66.6760552914036180409], [-54.0508842697976838523, -54.0508842671200767111], [-97.9844015849586901096, -97.9844015824931781102], [99.3187622564993188683, 99.3187622577463602169], [-124.649003401490810327, -124.649003400716024231]  …  [1.29999999785746106755, 1.29999999785746106826], [71.1215234031212003886, 71.1215234031212004059], [0.556879861706162772555, 0.556879861706162772745], [81.2395762908711064204, 81.2395762908711064273], [1.00000000014570940651, 1.00000000014570940656], [0.505233223527063179514, 0.505233223527063179568], [0.0309271987353624394539, 0.030927198735362439459], [-3.53808511072131242313, -3.53808511072131242302], [0.899999998276727897027, 0.899999998276727897054], [-4.35231546666095353592, -4.3523154666609535357]]\n",
       " [[0.696500161192672032935, 0.696500162807327967987], [-0.690870179000401067907, -0.690870178199598932312], [0.454310572068349768294, 0.454310572331650231744], [1.1721506079301669512, 1.17215060826983304886], [-10.796623463989984629, -10.7966234624256604991], [66.6760552845317709149, 66.6760552893621219299], [2.07231413719526958946, 2.07231413728069238634], [-2.10223103206232364386, -2.10223103204316277186], [2.00336185704909969111, 2.00336185705841930108], [-2.09692306462160455718, -2.09692306461416940876]  …  [1.29999999785746106772, 1.2999999978574610681], [20.0807695804446036947, 20.0807695804446036973], [14.3279821082556744621, 14.3279821082556744634], [1.20983194710553249414, 1.2098319471055324942], [1.00000000014570940651, 1.00000000014570940656], [1.19429732408813594032, 1.19429732408813594037], [1.49440350417248199401, 1.49440350417248199406], [0.611572261140503832847, 0.611572261140503832874], [0.899999998276727897027, 0.899999998276727897054], [-1.37737189532420770946, -1.3773718953242077094]]\n",
       " [[0.696500161627825727833, 0.696500162372174272358], [-0.690870178784582947724, -0.690870178415417052334], [0.45431057213930988253, 0.454310572260690117468], [1.17215060802170778926, 1.17215060817829221074], [-10.7966234635683954778, -10.7966234628472496507], [66.6760552858335622424, 66.6760552880603306024], [0.818671773245641919484, 0.818671773269382867358], [-1.14170055666658268155, -1.14170055666115765079], [2.1107345722028111448, 2.11073457220801431213], [-4.31883900221828738561, -4.31883900221346646027]  …  [1.29999999785746106777, 1.29999999785746106799], [-1.92613315198796221259, -1.92613315198796221242], [3.1102174571685925347, 3.1102174571685925348], [1.80243600200066373204, 1.80243600200066373209], [1.00000000014570940651, 1.00000000014570940656], [-0.51788069876780959568, -0.517880698767809595652], [-0.464453024188988258285, -0.464453024188988258271], [1.22995852772482322556, 1.22995852772482322561], [0.899999998276727897027, 0.899999998276727897054], [-0.758557216230490118097, -0.75855721623049011807]]\n",
       " [[0.696500161956401268713, 0.696500162043598731288], [-0.690870178621623155985, -0.690870178578376844018], [0.454310572192890394844, 0.454310572207109605153], [1.17215060809082837981, 1.1721506081091716202], [-10.7966234632500622426, -10.7966234631655828855], [66.6760552868165179037, 66.6760552870773749376], [2.10191154439359866653, 2.1019115444009763003], [-2.43400641309769691378, -2.43400641309477580858], [3.74241114550882853678, 3.74241114551080712768], [-6.31409171647526986488, -6.314091716473083136]  …  [1.29999999785746106788, 1.29999999785746106793], [1.84331157172102878111, 1.84331157172102878117], [0.889091913112932418292, 0.889091913112932418346], [0.341029237355792042558, 0.341029237355792042572], [1.00000000014570940651, 1.00000000014570940656], [-0.68945045465486965984, -0.689450454654869659813], [-0.345577394328197314791, -0.345577394328197314778], [1.1405112307550630327, 1.14051123075506303275], [0.899999998276727897027, 0.899999998276727897054], [-0.265488077656497898954, -0.265488077656497898941]]\n",
       " [[0.696500161786487001541, 0.696500162213512998542], [-0.690870178705893560035, -0.690870178494106439995], [0.454310572165182631027, 0.454310572234817368985], [1.17215060805508447002, 1.17215060814491552998], [-10.7966234634146799687, -10.7966234630009651598], [66.6760552863082080338, 66.676055287585684811], [3.35582237561428106958, 3.35582237563915494489], [-2.88051615882956575242, -2.88051615881236206191], [2.68990099076214576879, 2.68990099077108818482], [-0.703024417915789424401, -0.703024417911264255478]  …  [1.29999999785746106782, 1.29999999785746106799], [30.8187779504042457948, 30.8187779504042457966], [11.8113031573877296553, 11.8113031573877296557], [-2.05895449106864416645, -2.05895449106864416634], [1.00000000014570940651, 1.00000000014570940656], [-18.804613249599110787, -18.8046132495991107862], [-7.53168264994696166317, -7.53168264994696166296], [-0.864082934235714745239, -0.864082934235714745212], [0.899999998276727897027, 0.899999998276727897054], [0.780770725932362147305, 0.780770725932362147332]]\n",
       " [[0.696500161302384459714, 0.696500162697615540964], [-0.690870178945988270804, -0.690870178254011729389], [0.454310572086240473176, 0.454310572313759526849], [1.172150607953246538, 1.172150608246753462], [-10.7966234638836921411, -10.7966234625319529874], [66.6760552848599829627, 66.6760552890339098821], [0.839185006815234798742, 0.839185006844238848148], [-0.466881376563514303982, -0.466881376541999447611], [-0.0857316675994104688858, -0.0857316675898527401149], [1.55636382243530006216, 1.55636382244504894252]  …  [1.29999999785746106772, 1.2999999978574610681], [1.09999987797935732791, 1.09999987797935732834], [1.19999929826323027855, 1.19999929826323027866], [1.10000027316856538261, 1.10000027316856538266], [1.00000000014570940651, 1.00000000014570940656], [0.499999852536497162275, 0.499999852536497162302], [0.99999962763844391935, 0.999999627638443919377], [1.00000001964992028298, 1.00000001964992028304], [0.899999998276727897027, 0.899999998276727897054], [1.1999998841317965136, 1.19999988413179651365]]\n",
       " [[0.696500160977525286298, 0.696500163022474715193], [-0.690870179107104899279, -0.690870178092895101076], [0.454310572033265985424, 0.454310572366734014642], [1.1721506078849077387, 1.17215060831509226136], [-10.7966234641984248554, -10.7966234622172202731], [66.6760552838881450574, 66.6760552900057477874], [1.61690856932481870069, 1.6169085694079816219], [-2.63240772172494628641, -2.63240772161198555547], [9.28025757172632762698, 9.28025757192395744487], [-44.1270318205020328391, -44.1270318200328531266]  …  [1.29999999785746106766, 1.29999999785746106815], [1.63545756081871183132, 1.63545756081871183159], [0.177442422478946816335, 0.177442422478946816531], [0.675709981921809058747, 0.675709981921809058801], [1.00000000014570940651, 1.00000000014570940656], [5.29679183418358296678, 5.296791834183582967], [-0.44964784364883446915, -0.449647843648834469137], [1.09069341228085245164, 1.0906934122808524517], [0.899999998276727897027, 0.899999998276727897054], [6.48315156833808432031, 6.48315156833808432053]]\n",
       " [[0.696500159910640916902, 0.696500164089359089387], [-0.690870179636235140556, -0.690870177563764861019], [0.454310571859290128862, 0.454310572540709871393], [1.17215060766047326742, 1.17215060853952673275], [-10.7966234652320524721, -10.7966234611835926564], [66.6760552806964892428, 66.676055293197403602], [-2.70891570127810853445, -2.70891570110594012623], [11.8729994787032476613, 11.8729994790865338917], [-60.3926874895461127599, -60.3926874885134982885], [314.522077612288550361, 314.522077615006643514]  …  [1.29999999785746106745, 1.29999999785746106837], [9.32347415294385075107, 9.3234741529438507541], [-0.112607485005391586414, -0.112607485005391586241], [7.06081616674095894313, 7.06081616674095894379], [1.00000000014570940651, 1.00000000014570940656], [5.65279114662947815935, 5.65279114662947815978], [0.0618297124104814070536, 0.061829712410481407057], [1.0515650478892613214, 1.05156504788926132146], [0.899999998276727897027, 0.899999998276727897054], [7.01121101839212503069, 7.01121101839212503091]]"
      ]
     },
     "execution_count": 37,
     "metadata": {},
     "output_type": "execute_result"
    }
   ],
   "source": [
    "sol_prec = Int32(20)\n",
    "sol = RS.rs_isolate(rur, sep, output_precision=sol_prec)"
   ]
  },
  {
   "cell_type": "markdown",
   "id": "a58a62cf-9743-46fd-a167-09740f3a1420",
   "metadata": {},
   "source": [
    "One of the solutions looks promising:"
   ]
  },
  {
   "cell_type": "code",
   "execution_count": 44,
   "id": "445a6b26-d3be-48d0-a92a-bb9821677e4c",
   "metadata": {},
   "outputs": [
    {
     "data": {
      "text/plain": [
       "Dict{AbstractAlgebra.Generic.MPoly{Rational{BigInt}}, MPFI.BigInterval} with 13 entries:\n",
       "  mu_P_0     => [1.0, 1.00001]\n",
       "  delta_EL_0 => [1.0, 1.00001]\n",
       "  delta_NE_0 => [0.999999, 1.0]\n",
       "  mu_LE_0    => [1.09999, 1.1]\n",
       "  mu_M_0     => [1.1, 1.10001]\n",
       "  mu_PE_0    => [0.499999, 0.5]\n",
       "  rho_P_0    => [1.19999, 1.2]\n",
       "  delta_LM_0 => [1.0, 1.00001]\n",
       "  mu_EE_0    => [1.29999, 1.3]\n",
       "  mu_LL_0    => [1.19999, 1.2]\n",
       "  mu_N_0     => [1.0, 1.00001]\n",
       "  mu_PL_0    => [0.999999, 1.0]\n",
       "  rho_E_0    => [0.899999, 0.9]"
      ]
     },
     "execution_count": 44,
     "metadata": {},
     "output_type": "execute_result"
    }
   ],
   "source": [
    "sol_best = filter(x -> abs(x[end][1] - 0.01) < 1.2, sol)[4]\n",
    "Dict(gens(R)[end-12:end] .=> sol_best[end-12:end])"
   ]
  }
 ],
 "metadata": {
  "kernelspec": {
   "display_name": "Julia 1.11.3",
   "language": "julia",
   "name": "julia-1.11"
  },
  "language_info": {
   "file_extension": ".jl",
   "mimetype": "application/julia",
   "name": "julia",
   "version": "1.11.3"
  }
 },
 "nbformat": 4,
 "nbformat_minor": 5
}
